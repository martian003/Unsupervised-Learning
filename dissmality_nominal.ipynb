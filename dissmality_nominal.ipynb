{
 "cells": [
  {
   "cell_type": "code",
   "execution_count": 1,
   "metadata": {},
   "outputs": [],
   "source": [
    "import pandas as pd\n",
    "import numpy as np\n",
    "import seaborn as sns\n",
    "import matplotlib.pyplot as plt\n",
    "from sklearn.preprocessing import LabelEncoder"
   ]
  },
  {
   "cell_type": "code",
   "execution_count": 2,
   "metadata": {},
   "outputs": [],
   "source": [
    "def nominal_dist(x1, x2, nominal_cols):\n",
    "    l = len(nominal_cols)\n",
    "    n = sum(x1[nominal_cols] == x2[nominal_cols])\n",
    "    return (l - n) / l"
   ]
  },
  {
   "cell_type": "code",
   "execution_count": 3,
   "metadata": {},
   "outputs": [],
   "source": [
    "def numeric_dist(x1, x2, column_name, df):\n",
    "    min_val = df[column_name].min()\n",
    "    max_val = df[column_name].max()\n",
    "    if max_val == min_val:  \n",
    "        return 0\n",
    "    return abs(x1 - x2) / (max_val - min_val)"
   ]
  },
  {
   "cell_type": "code",
   "execution_count": 4,
   "metadata": {},
   "outputs": [],
   "source": [
    "def compute_matrix(group, nominal_cols):\n",
    "    numeric_cols = ['Units', 'Unit_price', 'Sale_amt']\n",
    "    group_numeric = group[numeric_cols].values\n",
    "    group_nominal = group[nominal_cols]\n",
    "\n",
    "    num_records = group.shape[0]\n",
    "    combined_dist = np.zeros((num_records, num_records))\n",
    "\n",
    "    for i in range(num_records):\n",
    "        for j in range(i + 1, num_records):\n",
    "            total_numeric_dist = 0\n",
    "            for col in numeric_cols:\n",
    "                total_numeric_dist += numeric_dist(group.iloc[i][col], group.iloc[j][col], col, group)\n",
    "            nominal_distance = nominal_dist(group.iloc[i], group.iloc[j], nominal_cols)\n",
    "            combined_dist[i, j] = np.round((total_numeric_dist + nominal_distance) / (len(numeric_cols) + 1),2)\n",
    "            combined_dist[j, i] = combined_dist[i, j]\n",
    "\n",
    "    return combined_dist"
   ]
  },
  {
   "cell_type": "code",
   "execution_count": 5,
   "metadata": {},
   "outputs": [],
   "source": [
    "df = pd.read_excel(\"Downloads/SaleData UL Lab.xlsx\")"
   ]
  },
  {
   "cell_type": "code",
   "execution_count": 6,
   "metadata": {},
   "outputs": [],
   "source": [
    "nominal_cols = ['Region', 'Manager', 'SalesMan', 'Item']\n",
    "numeric_cols = ['Units', 'Unit_price', 'Sale_amt']"
   ]
  },
  {
   "cell_type": "code",
   "execution_count": 7,
   "metadata": {},
   "outputs": [],
   "source": [
    "for col in nominal_cols:\n",
    "    df[col] = df[col].fillna('Missing').astype('str')\n",
    "\n",
    "label_encoders = {}\n",
    "for col in nominal_cols:\n",
    "    le = LabelEncoder()\n",
    "    df[col] = le.fit_transform(df[col])\n",
    "    label_encoders[col] = le"
   ]
  },
  {
   "cell_type": "code",
   "execution_count": 8,
   "metadata": {},
   "outputs": [],
   "source": [
    "grouped = df.groupby('Item')\n",
    "\n",
    "most_dissimilar_pairs = {}\n",
    "dissimilarity_matrices = {}"
   ]
  },
  {
   "cell_type": "code",
   "execution_count": 9,
   "metadata": {},
   "outputs": [],
   "source": [
    "for item, group in grouped:\n",
    "    if group.shape[0] < 2:  \n",
    "        continue\n",
    "    dist_matrix = compute_matrix(group, nominal_cols)\n",
    "    dissimilarity_matrices[item] = dist_matrix\n",
    "    idx = np.unravel_index(np.nanargmax(dist_matrix), dist_matrix.shape)  \n",
    "    most_dissimilar_pairs[item] = (group.iloc[idx[0]], group.iloc[idx[1]], dist_matrix[idx])"
   ]
  },
  {
   "cell_type": "code",
   "execution_count": 10,
   "metadata": {},
   "outputs": [
    {
     "name": "stdout",
     "output_type": "stream",
     "text": [
      "Dissimilarity Matrix for Item: Cell Phone\n",
      "      3     17    18    28    37\n",
      "3   0.00  0.42  0.26  0.61  0.43\n",
      "17  0.42  0.00  0.43  0.26  0.26\n",
      "18  0.26  0.43  0.00  0.62  0.56\n",
      "28  0.61  0.26  0.62  0.00  0.31\n",
      "37  0.43  0.26  0.56  0.31  0.00\n",
      "\n",
      "\n",
      "Dissimilarity Matrix for Item: Desk\n",
      "      14    31    35\n",
      "14  0.00  0.62  0.35\n",
      "31  0.62  0.00  0.52\n",
      "35  0.35  0.52  0.00\n",
      "\n",
      "\n",
      "Dissimilarity Matrix for Item: Home Theater\n",
      "      1     5     9     11    12    16    22    23    24    25    30    38  \\\n",
      "1   0.00  0.24  0.24  0.30  0.36  0.18  0.15  0.33  0.44  0.43  0.29  0.23   \n",
      "5   0.24  0.00  0.00  0.23  0.24  0.37  0.27  0.34  0.31  0.48  0.30  0.20   \n",
      "9   0.24  0.00  0.00  0.23  0.24  0.37  0.27  0.34  0.31  0.48  0.30  0.20   \n",
      "11  0.30  0.23  0.23  0.00  0.41  0.19  0.28  0.51  0.20  0.31  0.47  0.34   \n",
      "12  0.36  0.24  0.24  0.41  0.00  0.48  0.38  0.16  0.55  0.60  0.19  0.26   \n",
      "16  0.18  0.37  0.37  0.19  0.48  0.00  0.22  0.45  0.32  0.30  0.41  0.35   \n",
      "22  0.15  0.27  0.27  0.28  0.38  0.22  0.00  0.35  0.42  0.34  0.19  0.25   \n",
      "23  0.33  0.34  0.34  0.51  0.16  0.45  0.35  0.00  0.65  0.63  0.16  0.29   \n",
      "24  0.44  0.31  0.31  0.20  0.55  0.32  0.42  0.65  0.00  0.20  0.61  0.48   \n",
      "25  0.43  0.48  0.48  0.31  0.60  0.30  0.34  0.63  0.20  0.00  0.53  0.40   \n",
      "30  0.29  0.30  0.30  0.47  0.19  0.41  0.19  0.16  0.61  0.53  0.00  0.32   \n",
      "38  0.23  0.20  0.20  0.34  0.26  0.35  0.25  0.29  0.48  0.40  0.32  0.00   \n",
      "40  0.28  0.46  0.46  0.29  0.58  0.16  0.32  0.55  0.23  0.21  0.51  0.44   \n",
      "41  0.31  0.38  0.38  0.55  0.26  0.43  0.39  0.16  0.69  0.67  0.20  0.39   \n",
      "42  0.25  0.30  0.30  0.13  0.48  0.12  0.22  0.45  0.26  0.30  0.41  0.35   \n",
      "\n",
      "      40    41    42  \n",
      "1   0.28  0.31  0.25  \n",
      "5   0.46  0.38  0.30  \n",
      "9   0.46  0.38  0.30  \n",
      "11  0.29  0.55  0.13  \n",
      "12  0.58  0.26  0.48  \n",
      "16  0.16  0.43  0.12  \n",
      "22  0.32  0.39  0.22  \n",
      "23  0.55  0.16  0.45  \n",
      "24  0.23  0.69  0.26  \n",
      "25  0.21  0.67  0.30  \n",
      "30  0.51  0.20  0.41  \n",
      "38  0.44  0.39  0.35  \n",
      "40  0.00  0.46  0.22  \n",
      "41  0.46  0.00  0.49  \n",
      "42  0.22  0.49  0.00  \n",
      "\n",
      "\n",
      "Dissimilarity Matrix for Item: Missing\n",
      "      43    44\n",
      "43  0.00  0.75\n",
      "44  0.75  0.00\n",
      "\n",
      "\n",
      "Dissimilarity Matrix for Item: Television\n",
      "      0     2     4     6     7     8     10    13    20    27    29    36  \\\n",
      "0   0.00  0.52  0.41  0.24  0.22  0.55  0.22  0.34  0.35  0.29  0.43  0.69   \n",
      "2   0.52  0.00  0.30  0.35  0.31  0.21  0.37  0.19  0.30  0.30  0.22  0.29   \n",
      "4   0.41  0.30  0.00  0.30  0.38  0.26  0.38  0.31  0.25  0.24  0.14  0.40   \n",
      "6   0.24  0.35  0.30  0.00  0.21  0.43  0.21  0.35  0.17  0.05  0.25  0.51   \n",
      "7   0.22  0.31  0.38  0.21  0.00  0.52  0.06  0.50  0.26  0.26  0.34  0.60   \n",
      "8   0.55  0.21  0.26  0.43  0.52  0.00  0.52  0.20  0.32  0.38  0.31  0.33   \n",
      "10  0.22  0.37  0.38  0.21  0.06  0.52  0.00  0.50  0.26  0.26  0.34  0.60   \n",
      "13  0.34  0.19  0.31  0.35  0.50  0.20  0.50  0.00  0.37  0.30  0.29  0.35   \n",
      "20  0.35  0.30  0.25  0.17  0.26  0.32  0.26  0.37  0.00  0.13  0.20  0.47   \n",
      "27  0.29  0.30  0.24  0.05  0.26  0.38  0.26  0.30  0.13  0.00  0.20  0.46   \n",
      "29  0.43  0.22  0.14  0.25  0.34  0.31  0.34  0.29  0.20  0.20  0.00  0.26   \n",
      "36  0.69  0.29  0.40  0.51  0.60  0.33  0.60  0.35  0.47  0.46  0.26  0.00   \n",
      "39  0.59  0.25  0.43  0.35  0.56  0.29  0.56  0.24  0.43  0.30  0.35  0.16   \n",
      "\n",
      "      39  \n",
      "0   0.59  \n",
      "2   0.25  \n",
      "4   0.43  \n",
      "6   0.35  \n",
      "7   0.56  \n",
      "8   0.29  \n",
      "10  0.56  \n",
      "13  0.24  \n",
      "20  0.43  \n",
      "27  0.30  \n",
      "29  0.35  \n",
      "36  0.16  \n",
      "39  0.00  \n",
      "\n",
      "\n",
      "Dissimilarity Matrix for Item: Video Games\n",
      "      15    19    21    26    32    33    34\n",
      "15  0.00  0.69  0.49  0.40  0.29  0.43  0.35\n",
      "19  0.69  0.00  0.32  0.35  0.40  0.32  0.34\n",
      "21  0.49  0.32  0.00  0.34  0.20  0.31  0.39\n",
      "26  0.40  0.35  0.34  0.00  0.26  0.09  0.11\n",
      "32  0.29  0.40  0.20  0.26  0.00  0.23  0.31\n",
      "33  0.43  0.32  0.31  0.09  0.23  0.00  0.14\n",
      "34  0.35  0.34  0.39  0.11  0.31  0.14  0.00\n",
      "\n",
      "\n"
     ]
    }
   ],
   "source": [
    "for item, matrix in dissimilarity_matrices.items():\n",
    "    item_name = label_encoders['Item'].inverse_transform([item])[0]\n",
    "    print(f\"Dissimilarity Matrix for Item: {item_name}\")\n",
    "    print(pd.DataFrame(matrix, index=grouped.get_group(item).index, columns=grouped.get_group(item).index))\n",
    "    print(\"\\n\")"
   ]
  },
  {
   "cell_type": "code",
   "execution_count": 11,
   "metadata": {},
   "outputs": [
    {
     "name": "stdout",
     "output_type": "stream",
     "text": [
      "Most dissimilar pairs for each group:\n",
      "Item: Cell Phone\n",
      "Point 1: OrderDate     2018-11-08 00:00:00\n",
      "Region                          1\n",
      "Manager                         0\n",
      "SalesMan                        4\n",
      "Item                            0\n",
      "Units                          15\n",
      "Unit_price                    225\n",
      "Sale_amt                     3375\n",
      "Name: 18, dtype: object\n",
      "Point 2: OrderDate     2019-04-27 00:00:00\n",
      "Region                          1\n",
      "Manager                         2\n",
      "SalesMan                        2\n",
      "Item                            0\n",
      "Units                          96\n",
      "Unit_price                    225\n",
      "Sale_amt                    21600\n",
      "Name: 28, dtype: object\n",
      "Dissimilarity: 0.62\n",
      "\n",
      "Item: Desk\n",
      "Point 1: OrderDate     2018-09-01 00:00:00\n",
      "Region                          0\n",
      "Manager                         0\n",
      "SalesMan                        3\n",
      "Item                            1\n",
      "Units                           2\n",
      "Unit_price                    125\n",
      "Sale_amt                      250\n",
      "Name: 14, dtype: object\n",
      "Point 2: OrderDate     2019-06-17 00:00:00\n",
      "Region                          0\n",
      "Manager                         1\n",
      "SalesMan                        8\n",
      "Item                            1\n",
      "Units                           5\n",
      "Unit_price                    125\n",
      "Sale_amt                      625\n",
      "Name: 31, dtype: object\n",
      "Dissimilarity: 0.62\n",
      "\n",
      "Item: Home Theater\n",
      "Point 1: OrderDate     2019-02-18 00:00:00\n",
      "Region                          1\n",
      "Manager                         2\n",
      "SalesMan                        0\n",
      "Item                            2\n",
      "Units                           4\n",
      "Unit_price                    500\n",
      "Sale_amt                     2000\n",
      "Name: 24, dtype: object\n",
      "Point 2: OrderDate     2019-12-04 00:00:00\n",
      "Region                          0\n",
      "Manager                         1\n",
      "SalesMan                        5\n",
      "Item                            2\n",
      "Units                          94\n",
      "Unit_price                    500\n",
      "Sale_amt                    47000\n",
      "Name: 41, dtype: object\n",
      "Dissimilarity: 0.69\n",
      "\n",
      "Item: Missing\n",
      "Point 1: OrderDate       NaT\n",
      "Region            2\n",
      "Manager           3\n",
      "SalesMan          7\n",
      "Item              3\n",
      "Units           278\n",
      "Unit_price     1125\n",
      "Sale_amt      62550\n",
      "Name: 43, dtype: object\n",
      "Point 2: OrderDate         NaT\n",
      "Region              2\n",
      "Manager             3\n",
      "SalesMan            7\n",
      "Item                3\n",
      "Units           34.75\n",
      "Unit_price    140.625\n",
      "Sale_amt      7818.75\n",
      "Name: 44, dtype: object\n",
      "Dissimilarity: 0.75\n",
      "\n",
      "Item: Television\n",
      "Point 1: OrderDate     2018-01-06 00:00:00\n",
      "Region                          1\n",
      "Manager                         2\n",
      "SalesMan                        0\n",
      "Item                            4\n",
      "Units                          95\n",
      "Unit_price                   1198\n",
      "Sale_amt                   113810\n",
      "Name: 0, dtype: object\n",
      "Point 2: OrderDate     2019-09-10 00:00:00\n",
      "Region                          0\n",
      "Manager                         4\n",
      "SalesMan                        1\n",
      "Item                            4\n",
      "Units                           7\n",
      "Unit_price                   1198\n",
      "Sale_amt                     8386\n",
      "Name: 36, dtype: object\n",
      "Dissimilarity: 0.69\n",
      "\n",
      "Item: Video Games\n",
      "Point 1: OrderDate     2018-09-18 00:00:00\n",
      "Region                          1\n",
      "Manager                         2\n",
      "SalesMan                        0\n",
      "Item                            5\n",
      "Units                          16\n",
      "Unit_price                   58.5\n",
      "Sale_amt                      936\n",
      "Name: 15, dtype: object\n",
      "Point 2: OrderDate     2018-11-25 00:00:00\n",
      "Region                          0\n",
      "Manager                         1\n",
      "SalesMan                        8\n",
      "Item                            5\n",
      "Units                          96\n",
      "Unit_price                   58.5\n",
      "Sale_amt                     5616\n",
      "Name: 19, dtype: object\n",
      "Dissimilarity: 0.69\n",
      "\n"
     ]
    }
   ],
   "source": [
    "print(\"Most dissimilar pairs for each group:\")\n",
    "for item, (point1, point2, dist) in most_dissimilar_pairs.items():\n",
    "    item_name = label_encoders['Item'].inverse_transform([item])[0]\n",
    "    print(f\"Item: {item_name}\")\n",
    "    print(f\"Point 1: {point1}\")\n",
    "    print(f\"Point 2: {point2}\")\n",
    "    print(f\"Dissimilarity: {dist}\\n\")"
   ]
  },
  {
   "cell_type": "code",
   "execution_count": 12,
   "metadata": {},
   "outputs": [
    {
     "data": {
      "image/png": "[encoded data removed]",
      "text/plain": [
       "<Figure size 540x540 with 12 Axes>"
      ]
     },
     "metadata": {
      "needs_background": "light"
     },
     "output_type": "display_data"
    }
   ],
   "source": [
    "sns.pairplot(df[numeric_cols])\n",
    "plt.suptitle(\"Scatter Plot Matrix\", y=1.02)\n",
    "plt.show()"
   ]
  },
  {
   "cell_type": "code",
   "execution_count": null,
   "metadata": {},
   "outputs": [],
   "source": []
  },
  {
   "cell_type": "code",
   "execution_count": 13,
   "metadata": {},
   "outputs": [
    {
     "data": {
      "image/png": "[encoded data removed]",
      "text/plain": [
       "<Figure size 432x288 with 1 Axes>"
      ]
     },
     "metadata": {
      "needs_background": "light"
     },
     "output_type": "display_data"
    }
   ],
   "source": [
    "df[numeric_cols].mean().plot(kind='bar', color=['skyblue', 'lightgreen', 'salmon'])\n",
    "plt.yscale('log')\n",
    "plt.title(\"Log-Scaled Average of Numeric Columns\")\n",
    "plt.ylabel('Log-Scaled Average Value')\n",
    "plt.xticks(rotation=0)\n",
    "plt.show()\n"
   ]
  },
  {
   "cell_type": "code",
   "execution_count": null,
   "metadata": {},
   "outputs": [],
   "source": []
  },
  {
   "cell_type": "code",
   "execution_count": null,
   "metadata": {},
   "outputs": [],
   "source": []
  }
 ],
 "metadata": {
  "kernelspec": {
   "display_name": "Python 3",
   "language": "python",
   "name": "python3"
  },
  "language_info": {
   "codemirror_mode": {
    "name": "ipython",
    "version": 3
   },
   "file_extension": ".py",
   "mimetype": "text/x-python",
   "name": "python",
   "nbconvert_exporter": "python",
   "pygments_lexer": "ipython3",
   "version": "3.7.3"
  }
 },
 "nbformat": 4,
 "nbformat_minor": 2
}
