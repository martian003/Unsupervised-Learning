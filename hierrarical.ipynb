{
 "cells": [
  {
   "cell_type": "code",
   "execution_count": 12,
   "id": "322f7658-9ffe-4e75-ad41-4a67db25fb27",
   "metadata": {},
   "outputs": [],
   "source": [
    "import pandas as pd\n",
    "import numpy as np\n",
    "import matplotlib.pyplot as plt\n",
    "import scipy.cluster.hierarchy as sch\n",
    "from scipy.cluster.hierarchy import linkage, fcluster"
   ]
  },
  {
   "cell_type": "code",
   "execution_count": 2,
   "id": "d5811a84-b905-49ee-b577-81520c431e5d",
   "metadata": {},
   "outputs": [],
   "source": [
    "df = pd.read_csv('Mall_Customers.csv')"
   ]
  },
  {
   "cell_type": "code",
   "execution_count": 8,
   "id": "eae88f58-f90d-496b-b8bd-2e5461e586ef",
   "metadata": {},
   "outputs": [
    {
     "data": {
      "text/html": [
       "<div>\n",
       "<style scoped>\n",
       "    .dataframe tbody tr th:only-of-type {\n",
       "        vertical-align: middle;\n",
       "    }\n",
       "\n",
       "    .dataframe tbody tr th {\n",
       "        vertical-align: top;\n",
       "    }\n",
       "\n",
       "    .dataframe thead th {\n",
       "        text-align: right;\n",
       "    }\n",
       "</style>\n",
       "<table border=\"1\" class=\"dataframe\">\n",
       "  <thead>\n",
       "    <tr style=\"text-align: right;\">\n",
       "      <th></th>\n",
       "      <th>CustomerID</th>\n",
       "      <th>Gender</th>\n",
       "      <th>Age</th>\n",
       "      <th>Annual Income (k$)</th>\n",
       "      <th>Spending Score (1-100)</th>\n",
       "      <th>Spending Category</th>\n",
       "    </tr>\n",
       "  </thead>\n",
       "  <tbody>\n",
       "    <tr>\n",
       "      <th>0</th>\n",
       "      <td>1</td>\n",
       "      <td>Male</td>\n",
       "      <td>19</td>\n",
       "      <td>15</td>\n",
       "      <td>39</td>\n",
       "      <td>L</td>\n",
       "    </tr>\n",
       "    <tr>\n",
       "      <th>1</th>\n",
       "      <td>2</td>\n",
       "      <td>Male</td>\n",
       "      <td>21</td>\n",
       "      <td>15</td>\n",
       "      <td>81</td>\n",
       "      <td>H</td>\n",
       "    </tr>\n",
       "    <tr>\n",
       "      <th>2</th>\n",
       "      <td>3</td>\n",
       "      <td>Female</td>\n",
       "      <td>20</td>\n",
       "      <td>16</td>\n",
       "      <td>6</td>\n",
       "      <td>L</td>\n",
       "    </tr>\n",
       "    <tr>\n",
       "      <th>3</th>\n",
       "      <td>4</td>\n",
       "      <td>Female</td>\n",
       "      <td>23</td>\n",
       "      <td>16</td>\n",
       "      <td>77</td>\n",
       "      <td>H</td>\n",
       "    </tr>\n",
       "    <tr>\n",
       "      <th>4</th>\n",
       "      <td>5</td>\n",
       "      <td>Female</td>\n",
       "      <td>31</td>\n",
       "      <td>17</td>\n",
       "      <td>40</td>\n",
       "      <td>M</td>\n",
       "    </tr>\n",
       "  </tbody>\n",
       "</table>\n",
       "</div>"
      ],
      "text/plain": [
       "   CustomerID  Gender  Age  Annual Income (k$)  Spending Score (1-100)  \\\n",
       "0           1    Male   19                  15                      39   \n",
       "1           2    Male   21                  15                      81   \n",
       "2           3  Female   20                  16                       6   \n",
       "3           4  Female   23                  16                      77   \n",
       "4           5  Female   31                  17                      40   \n",
       "\n",
       "  Spending Category  \n",
       "0                 L  \n",
       "1                 H  \n",
       "2                 L  \n",
       "3                 H  \n",
       "4                 M  "
      ]
     },
     "execution_count": 8,
     "metadata": {},
     "output_type": "execute_result"
    }
   ],
   "source": [
    "df.head()"
   ]
  },
  {
   "cell_type": "code",
   "execution_count": 7,
   "id": "2d586b91-db76-46c4-a357-f4cb6ce4c617",
   "metadata": {},
   "outputs": [
    {
     "name": "stdout",
     "output_type": "stream",
     "text": [
      "Column Names: Index(['CustomerID', 'Gender', 'Age', 'Annual Income (k$)',\n",
      "       'Spending Score (1-100)', 'Spending Category'],\n",
      "      dtype='object')\n"
     ]
    }
   ],
   "source": [
    "print(\"Column Names:\", df.columns)"
   ]
  },
  {
   "cell_type": "code",
   "execution_count": 4,
   "id": "0a530710-1abd-4c5c-9dcc-0e883ea592dd",
   "metadata": {},
   "outputs": [],
   "source": [
    "def categorize_spending_score(score):\n",
    "    if score > 85:\n",
    "        return 'VH'\n",
    "    elif 65 <= score <= 84:\n",
    "        return 'H'\n",
    "    elif 40 <= score <= 64:\n",
    "        return 'M'\n",
    "    else:\n",
    "        return 'L'"
   ]
  },
  {
   "cell_type": "code",
   "execution_count": 9,
   "id": "ac005707-74a4-48f9-8515-e0f8d3fcd750",
   "metadata": {},
   "outputs": [
    {
     "name": "stdout",
     "output_type": "stream",
     "text": [
      "   Spending Score (1-100) Spending Category\n",
      "0                      39                 L\n",
      "1                      81                 H\n",
      "2                       6                 L\n",
      "3                      77                 H\n",
      "4                      40                 M\n",
      "5                      76                 H\n",
      "6                       6                 L\n",
      "7                      94                VH\n",
      "8                       3                 L\n",
      "9                      72                 H\n",
      "File saved as Mall_Customers_Categorized.csv\n"
     ]
    }
   ],
   "source": [
    "df['Spending Category'] = df['Spending Score (1-100)'].apply(categorize_spending_score)\n",
    "\n",
    "print(df[['Spending Score (1-100)', 'Spending Category']].head(10))\n",
    "\n",
    "df[['CustomerID', 'Age', 'Annual Income (k$)', 'Spending Score (1-100)', 'Spending Category']].to_csv(\"Mall_Customers_Categorized.csv\", index=False)\n",
    "\n",
    "print(\"File saved as Mall_Customers_Categorized.csv\")"
   ]
  },
  {
   "cell_type": "code",
   "execution_count": 11,
   "id": "c958564a-9c10-4f67-8841-cd598eb70c86",
   "metadata": {},
   "outputs": [
    {
     "data": {
      "image/png": "[encoded data removed]",
      "text/plain": [
       "<Figure size 1000x500 with 1 Axes>"
      ]
     },
     "metadata": {},
     "output_type": "display_data"
    },
    {
     "name": "stdout",
     "output_type": "stream",
     "text": [
      "   Age  Annual Income (k$)  Cluster_3  Cluster_5\n",
      "0   19                  15          3          4\n",
      "1   21                  15          3          4\n",
      "2   20                  16          3          4\n",
      "3   23                  16          3          4\n",
      "4   31                  17          3          4\n",
      "5   22                  17          3          4\n",
      "6   35                  18          3          4\n",
      "7   23                  18          3          4\n",
      "8   64                  19          3          4\n",
      "9   30                  19          3          4\n",
      "File saved as Mall_Customers_Clusters.csv\n"
     ]
    }
   ],
   "source": [
    "X = df[['Age', 'Annual Income (k$)']].values\n",
    "\n",
    "linkage_matrix = linkage(X, method='single')\n",
    "\n",
    "plt.figure(figsize=(10, 5))\n",
    "sch.dendrogram(linkage_matrix)\n",
    "plt.title(\"Dendrogram (Single Linkage - Nearest Neighbor)\")\n",
    "plt.xlabel(\"Customers\")\n",
    "plt.ylabel(\"Euclidean Distance\")\n",
    "plt.show()\n",
    "\n",
    "df['Cluster_3'] = fcluster(linkage_matrix, 3, criterion='maxclust')\n",
    "df['Cluster_5'] = fcluster(linkage_matrix, 5, criterion='maxclust')\n",
    "\n",
    "print(df[['Age', 'Annual Income (k$)', 'Cluster_3', 'Cluster_5']].head(10))\n",
    "\n",
    "df.to_csv(\"Mall_Customers_Clusters.csv\", index=False)\n",
    "print(\"File saved as Mall_Customers_Clusters.csv\")\n",
    "\n"
   ]
  },
  {
   "cell_type": "code",
   "execution_count": 13,
   "id": "9304f59b-4a73-41f9-af0f-562859091c0a",
   "metadata": {},
   "outputs": [
    {
     "name": "stdout",
     "output_type": "stream",
     "text": [
      "Purity for 3 clusters: 0.4250\n",
      "Purity for 5 clusters: 0.4400\n"
     ]
    }
   ],
   "source": [
    "def calculate_purity(df, cluster_col, label_col):\n",
    "    clusters = df[cluster_col].unique()  \n",
    "    total_samples = len(df)  \n",
    "    correct_assignments = 0  \n",
    "\n",
    "    for cluster in clusters:\n",
    "        cluster_data = df[df[cluster_col] == cluster]  \n",
    "        most_common_label = cluster_data[label_col].value_counts().idxmax() \n",
    "        correct_assignments += (cluster_data[label_col] == most_common_label).sum()  \n",
    "\n",
    "    return correct_assignments / total_samples  \n",
    "\n",
    "\n",
    "purity_3 = calculate_purity(df, 'Cluster_3', 'Spending Category')\n",
    "purity_5 = calculate_purity(df, 'Cluster_5', 'Spending Category')\n",
    "\n",
    "\n",
    "print(f\"Purity for 3 clusters: {purity_3:.4f}\")\n",
    "print(f\"Purity for 5 clusters: {purity_5:.4f}\")\n"
   ]
  },
  {
   "cell_type": "code",
   "execution_count": null,
   "id": "d67056d8-1c1c-4497-a829-6de560f29519",
   "metadata": {},
   "outputs": [],
   "source": []
  }
 ],
 "metadata": {
  "kernelspec": {
   "display_name": "Python 3 (ipykernel)",
   "language": "python",
   "name": "python3"
  },
  "language_info": {
   "codemirror_mode": {
    "name": "ipython",
    "version": 3
   },
   "file_extension": ".py",
   "mimetype": "text/x-python",
   "name": "python",
   "nbconvert_exporter": "python",
   "pygments_lexer": "ipython3",
   "version": "3.12.7"
  }
 },
 "nbformat": 4,
 "nbformat_minor": 5
}
